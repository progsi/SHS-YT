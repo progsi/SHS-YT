{
 "cells": [
  {
   "cell_type": "markdown",
   "metadata": {},
   "source": [
    "# Analysis of Curated Data\n",
    "We have different subsets of curated data based on the initial MTurk labels. Our selection of candidates for expert/author curation is based on two aspects:\n",
    "- worker uncertainty: we curate candidates for which we cannot aggregate a majority vote label (tie vote or too many failed check questions)\n",
    "- we annotated all the candidates labeled with *No Music*, *Version* or *Match*\n",
    "- model uncertainty: for candidates annotated with *Other*, we curate a subset of the candidates with the highest mean similarity according to CoverHunter\n",
    "\n"
   ]
  },
  {
   "cell_type": "code",
   "execution_count": null,
   "metadata": {},
   "outputs": [],
   "source": [
    "import pandas as pd\n",
    "import utils\n",
    "import numpy as np\n",
    "\n",
    "\n",
    "data = pd.read_csv(\"data/SHS-YT.csv\", sep=\";\")\n",
    "\n",
    "def compute_majority_vote(row):\n",
    "    unique_values, counts = np.unique(row, return_counts=True)\n",
    "    valid_votes = counts[np.logical_not(np.isnan(unique_values))]\n",
    "    \n",
    "    if len(valid_votes) == 0:\n",
    "        return np.nan\n",
    "    \n",
    "    max_vote_count = np.max(valid_votes)\n",
    "    majority_votes = unique_values[counts == max_vote_count]\n",
    "    \n",
    "    if len(majority_votes) > 1 or max_vote_count < 3:\n",
    "        return np.nan\n",
    "    else:\n",
    "        return majority_votes[0]\n",
    "    \n",
    "data['mv'] = data[['worker_ind0', 'worker_ind1', 'worker_ind2', 'worker_ind3', 'worker_ind4']].apply(compute_majority_vote, axis=1)\n"
   ]
  },
  {
   "cell_type": "code",
   "execution_count": null,
   "metadata": {},
   "outputs": [],
   "source": [
    "# attach model preds\n",
    "data_models = utils.get_all_pair_dfs(\"SHS-SEED+YT\").rename(\n",
    "    {\"yt_id_a\": \"reference_yt_id\", \"yt_id_b\": \"yt_id\"}, axis=1)\n",
    "data_models = data_models[[\"reference_yt_id\", \"yt_id\", \"cos_ch\", \"cos_cq\", \"cos_rm\", \"cos_di\", \"cos_fz\"]].drop_duplicates()\n",
    "\n",
    "# merge the data\n",
    "data = pd.merge(data, \n",
    "                data_models, \n",
    "                on=[\"reference_yt_id\", \"yt_id\"], how=\"left\")\n",
    "\n",
    "data_curated = data.query(\"origin == 'expert'\")\n"
   ]
  },
  {
   "cell_type": "markdown",
   "metadata": {},
   "source": [
    "# Ambiguity Counts"
   ]
  },
  {
   "cell_type": "code",
   "execution_count": null,
   "metadata": {},
   "outputs": [],
   "source": [
    "data_version_nonversion = data_curated.loc[(data_curated.label == 'Version') | (data_curated.label == 'Non-Version')]\n",
    "data_version_nonversion.groupby(\n",
    "    by=[\"label\", \"category_expert\"], as_index=False).count().sort_values(by=[\"label\", \"yt_id\"], ascending=False)\n"
   ]
  },
  {
   "cell_type": "code",
   "execution_count": null,
   "metadata": {},
   "outputs": [],
   "source": [
    "import seaborn as sns\n",
    "import matplotlib.pyplot as plt\n",
    "\n",
    "plot_data = data_version_nonversion.loc[data_version_nonversion.category_expert != \"Placeholder: Non-Ambiguous\"]\n",
    "\n",
    "sns.set_style(\"whitegrid\")\n",
    "\n",
    "sorted_cats = sorted(plot_data['category_expert'].unique())\n",
    "sns.countplot(plot_data, y=\"category_expert\", hue=\"label\", stat=\"proportion\", order=sorted_cats)\n",
    "\n",
    "plt.ylabel(\"\")\n",
    "\n",
    "plt.tight_layout()\n",
    "plt.savefig(\"figs/category_counts.pdf\")\n",
    "plt.show()\n"
   ]
  },
  {
   "cell_type": "markdown",
   "metadata": {},
   "source": [
    "## Worker Uncertainty"
   ]
  },
  {
   "cell_type": "markdown",
   "metadata": {},
   "source": [
    "### Relabeled"
   ]
  },
  {
   "cell_type": "code",
   "execution_count": null,
   "metadata": {},
   "outputs": [],
   "source": [
    "data_curated.query(\"label_mturk != label\")[[\"label_mturk\", \"label\", \"yt_id\"]].groupby(\n",
    "    [\"label_mturk\", \"label\"]\n",
    "    ).count()\n"
   ]
  },
  {
   "cell_type": "markdown",
   "metadata": {},
   "source": [
    "### Uncertainty Categories"
   ]
  },
  {
   "cell_type": "markdown",
   "metadata": {},
   "source": [
    "#### Versions/Match: Why don't workers find Covers?"
   ]
  },
  {
   "cell_type": "code",
   "execution_count": null,
   "metadata": {},
   "outputs": [],
   "source": [
    "import seaborn as sns\n",
    "import matplotlib.pyplot as plt\n",
    "\n",
    "data_worker_unc = data_curated.query(\"(label_mturk != label) | mv.isna()\")\n",
    "\n",
    "\n",
    "def get_category_counts(data):\n",
    "    \n",
    "    absolute_counts = data.category_expert.value_counts()\n",
    "    relative_counts = data.category_expert.value_counts(normalize=True).round(2)\n",
    "\n",
    "    # Create a DataFrame to display the results\n",
    "    result_df = pd.DataFrame({'Absolute Counts': absolute_counts, 'Relative Frequencies': relative_counts})\n",
    "    result_df = result_df.sort_values(\n",
    "        by='Absolute Counts', ascending=False).reset_index().rename(\n",
    "        {\"index\": \"category\"}, axis=1)\n",
    "    return result_df\n",
    "\n",
    "\n",
    "def plot_cqt_ch_sample_groups(data, labels):\n",
    "    \n",
    "    sns.scatterplot(data, x=\"cos_cq\", y=\"cos_ch\", hue=\"sample_group\")\n",
    "    plt.xlabel(\"CQTNet Cosine Similarity\")\n",
    "    plt.ylabel(\"CoverHunter Cosine Similarity\")\n",
    "    plt.title(labels)\n",
    "    plt.show()\n",
    "\n",
    "\n",
    "def report(data, labels):\n",
    "    \n",
    "    if labels == 'Versions':\n",
    "        data = data.query(\"nlabel > 1\")\n",
    "    elif labels == 'Other':\n",
    "        data = data.query(\"nlabel == 1\")\n",
    "    elif labels == 'No Music':\n",
    "        data = data.query(\"nlabel == 0\")\n",
    "    \n",
    "    plot_cqt_ch_sample_groups(data, labels)\n",
    "    return get_category_counts(data)\n",
    "    \n",
    "report(data_worker_unc, \"Versions\")\n"
   ]
  },
  {
   "cell_type": "markdown",
   "metadata": {},
   "source": [
    "#### Other Versions: Why do workers confuse those with covers?"
   ]
  },
  {
   "cell_type": "code",
   "execution_count": null,
   "metadata": {},
   "outputs": [],
   "source": [
    "report(data_worker_unc, \"Other\")\n"
   ]
  },
  {
   "cell_type": "markdown",
   "metadata": {},
   "source": [
    "#### No Music candidates: Why do workers confuse those with covers?"
   ]
  },
  {
   "cell_type": "code",
   "execution_count": null,
   "metadata": {},
   "outputs": [],
   "source": [
    "report(data_worker_unc, \"No Music\")\n"
   ]
  },
  {
   "cell_type": "markdown",
   "metadata": {},
   "source": [
    "## CSI Model Uncertainty\n",
    "### Difficult Versions"
   ]
  },
  {
   "cell_type": "code",
   "execution_count": null,
   "metadata": {},
   "outputs": [],
   "source": [
    "report(data_curated, \"Versions\")\n"
   ]
  },
  {
   "cell_type": "markdown",
   "metadata": {},
   "source": [
    "### Non-Versions"
   ]
  },
  {
   "cell_type": "code",
   "execution_count": null,
   "metadata": {},
   "outputs": [],
   "source": [
    "report(data_curated, \"Other\")\n"
   ]
  },
  {
   "cell_type": "markdown",
   "metadata": {},
   "source": [
    "### No Music"
   ]
  },
  {
   "cell_type": "code",
   "execution_count": null,
   "metadata": {},
   "outputs": [],
   "source": [
    "report(data_curated, \"No Music\")\n"
   ]
  }
 ],
 "metadata": {
  "kernelspec": {
   "display_name": "shs-yt",
   "language": "python",
   "name": "python3"
  },
  "language_info": {
   "codemirror_mode": {
    "name": "ipython",
    "version": 3
   },
   "file_extension": ".py",
   "mimetype": "text/x-python",
   "name": "python",
   "nbconvert_exporter": "python",
   "pygments_lexer": "ipython3",
   "version": "3.11.8"
  }
 },
 "nbformat": 4,
 "nbformat_minor": 2
}
