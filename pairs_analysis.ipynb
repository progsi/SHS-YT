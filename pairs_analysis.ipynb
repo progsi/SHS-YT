{
 "cells": [
  {
   "cell_type": "markdown",
   "id": "fb28bcc5",
   "metadata": {},
   "source": [
    "# Analysis of Pairwise Similarities\n",
    "In this notebook we show some analyses of pairwise similarities between versions of different types."
   ]
  },
  {
   "cell_type": "code",
   "execution_count": null,
   "id": "ba88bf43",
   "metadata": {},
   "outputs": [],
   "source": [
    "import torch\n",
    "import pandas as pd\n",
    "import numpy as np\n",
    "from tqdm import tqdm\n",
    "import utils\n",
    "\n",
    "dataset = \"SHS-SEED+YT\"\n",
    "\n",
    "# This can take a minute\n",
    "data = utils.get_all_pair_dfs(dataset)\n",
    "\n",
    "data"
   ]
  },
  {
   "cell_type": "markdown",
   "id": "07b23f43",
   "metadata": {},
   "source": [
    "## Normalized Cosine Similarities"
   ]
  },
  {
   "cell_type": "code",
   "execution_count": null,
   "id": "9d34a36e",
   "metadata": {},
   "outputs": [],
   "source": [
    "from sklearn import preprocessing\n",
    "\n",
    "x = data[[\"cos_ch\", \"cos_cq\", \"cos_rm\"]].replace([np.inf, -np.inf], 0).values #returns a numpy array\n",
    "min_max_scaler = preprocessing.MinMaxScaler()\n",
    "x_scaled = min_max_scaler.fit_transform(x)\n",
    "data[[\"cos_ch\", \"cos_cq\", \"cos_rm\"]] = x_scaled\n",
    "\n"
   ]
  },
  {
   "cell_type": "markdown",
   "id": "47eb96cc",
   "metadata": {},
   "source": [
    "# Pairwise Relationships by Relevance Class"
   ]
  },
  {
   "cell_type": "code",
   "execution_count": null,
   "id": "d7fe5f89",
   "metadata": {},
   "outputs": [],
   "source": [
    "plot_data = data.query(\"(set_id_a == set_id_b) & ~(yt_id_a == yt_id_b)\").groupby(\n",
    "    by=[\"label_a\", \"label_b\"]).describe().loc[\"SHS-Version\"].rename(index={'Non-Version': 'YT-Non-Version'})\n",
    "plot_data.rename(index={'Non-Version': 'YT-Non-Version'})\n",
    "plot_data.loc[\"SHS-Non-Version\"] = data.query(\"(set_id_a != set_id_b) & ~(yt_id_a == yt_id_b)\").groupby(\n",
    "    by=[\"label_a\", \"label_b\"]).describe().loc[(\"SHS-Version\", \"SHS-Version\")]\n",
    "\n",
    "custom_order = ['Match', 'SHS-Version', 'YT-Version', 'SHS-Non-Version', 'YT-Non-Version', 'No Music']\n",
    "plot_data = plot_data.reindex(custom_order)\n",
    "plot_data\n"
   ]
  },
  {
   "cell_type": "markdown",
   "id": "23eec0fe",
   "metadata": {},
   "source": [
    "# t-Test"
   ]
  },
  {
   "cell_type": "code",
   "execution_count": null,
   "id": "6c12744b",
   "metadata": {},
   "outputs": [],
   "source": [
    "from scipy import stats\n",
    "\n",
    "# get data with SHS-Version on left side and not self-matching\n",
    "data_ttest = data.loc[(data.label_a == \"SHS-Version\") & (data.yt_id_a != data.yt_id_b)]\n",
    "\n",
    "def ttest(a, b, a_name, b_name, alternative='greater'):\n",
    "    \n",
    "    test = stats.ttest_ind(a, b, alternative=alternative)\n",
    "    print(f\"Hypothesis {a_name} mean {alternative} {b_name} mean p-value {test.pvalue}; statistic {test.statistic}\")\n",
    "\n",
    "shs_vers_vals = {}\n",
    "shs_nonvers_vals = {}\n",
    "\n",
    "for sims_col in [\"cos_ch\", \"cos_cq\", \"cos_rm\"]:\n",
    "    print(f\"\\n{sims_col}\")\n",
    "    sims_shs_vers = data_ttest.loc[(data_ttest.label_b == \"SHS-Version\") & (data_ttest.set_id_a == data_ttest.set_id_b), sims_col]\n",
    "    sims_yt_vers = data_ttest.loc[(data_ttest.label_b == \"YT-Version\") & (data_ttest.set_id_a == data_ttest.set_id_b), sims_col]\n",
    "    sims_yt_matchs = data_ttest.loc[(data_ttest.label_b == \"Match\") & (data_ttest.set_id_a == data_ttest.set_id_b), sims_col]\n",
    "\n",
    "    shs_vers_vals[sims_col] = sims_shs_vers\n",
    "    ttest(sims_shs_vers, sims_yt_vers, \"SHS-Version\", \"YT-Version\")\n",
    "    ttest(sims_shs_vers, sims_yt_matchs, \"YT-Match\", \"SHS-Version\")\n",
    "\n",
    "    sims_shs_non_vers = data_ttest.loc[(data_ttest.label_b == \"SHS-Version\") & (data_ttest.set_id_a != data_ttest.set_id_b), sims_col]\n",
    "    sims_yt_non_vers = data_ttest.loc[(data_ttest.label_b == \"Non-Version\") & (data_ttest.set_id_a == data_ttest.set_id_b), sims_col]\n",
    "    sims_yt_nomusic = data_ttest.loc[(data_ttest.label_b == \"Non-Version\"), sims_col]\n",
    "\n",
    "    shs_nonvers_vals[sims_col] = sims_shs_non_vers\n",
    "    ttest(sims_yt_non_vers, sims_shs_non_vers, \"YT-NonVersion\", \"SHS-NonVersion\")\n",
    "    ttest(sims_yt_nomusic, sims_shs_non_vers, \"YT-NoMusic\", \"SHS-NonVersion\", \"two-sided\")\n",
    "\n"
   ]
  },
  {
   "cell_type": "markdown",
   "id": "d1c4f753",
   "metadata": {},
   "source": [
    "## For Latex table creation"
   ]
  },
  {
   "cell_type": "code",
   "execution_count": null,
   "id": "3dd25ff1",
   "metadata": {},
   "outputs": [],
   "source": [
    "col_list = [(\"cos_ch\", \"mean\"), (\"cos_ch\", \"std\"), (\"cos_ch\", \"max\"), (\"cos_ch\", \"min\"), \n",
    "            (\"cos_cq\", \"mean\"), (\"cos_cq\", \"std\"), (\"cos_cq\", \"max\"), (\"cos_cq\", \"min\"),\n",
    "            (\"cos_rm\", \"mean\"), (\"cos_rm\", \"std\"), (\"cos_rm\", \"max\"), (\"cos_rm\", \"min\"), (\"cos_ch\", \"count\") \n",
    "            ]\n",
    "plot_data.loc[:, col_list].rename({\"SHS-Version\": \"SHS^+\", \"YT-Version\": \"YT^+\", \n",
    "                                   \"SHS-Non-Version\": \"SHS^-\", \"YT-Non-Version\": \"YT^-\"}).rename(\n",
    "                                       {\"cos_ch\": \"CoverHunter\", \"cos_cq\": \"CQTNet\", \"cos_rm\": \"Re-MOVE\"}, axis=1\n",
    "                                   ).round(2).to_latex(float_format=\"{:.2f}\".format, index=True, escape=False)\n"
   ]
  },
  {
   "cell_type": "markdown",
   "id": "d133e848",
   "metadata": {},
   "source": [
    "# Human vs. model uncertainty\n"
   ]
  },
  {
   "cell_type": "code",
   "execution_count": null,
   "id": "3d80aadf",
   "metadata": {},
   "outputs": [],
   "source": [
    "data_human = pd.read_csv(\"data/SHS-YT.csv\", sep=\";\")\n",
    "data_human = pd.merge(data_human, \n",
    "         data.drop_duplicates(\n",
    "             subset=[\"yt_id_a\", \"yt_id_b\"]).rename(\n",
    "                 {\"yt_id_a\": \"reference_yt_id\", \"yt_id_b\": \"yt_id\"}, axis=1), \n",
    "         on=[\"reference_yt_id\", \"yt_id\"], \n",
    "         how=\"left\")\n",
    "data_human[\"worker_nunique\"] = data_human[['worker_ind0', 'worker_ind1', 'worker_ind2', 'worker_ind3','worker_ind4']].nunique(axis=1)\n",
    "\n"
   ]
  },
  {
   "cell_type": "code",
   "execution_count": null,
   "id": "c9544b8d",
   "metadata": {},
   "outputs": [],
   "source": [
    "plot_data = data_human.rename({\"cos_ch\": \"CoverHunter\", \"cos_cq\": \"CQTNet\", \"cos_rm\": \"Re-MOVE\"}, axis=1)\n",
    "plot_data = pd.melt(plot_data, id_vars=['set_id', 'ver_id', 'reference_yt_id', 'yt_id', 'sample_group', 'category_expert', 'worker_nunique', 'label_expert', 'label_mturk', 'label'],\n",
    "                    value_vars=[\"CoverHunter\", \"CQTNet\", \"Re-MOVE\"], \n",
    "                    var_name='Model', value_name='Cosine Similarity')\n",
    "\n"
   ]
  },
  {
   "cell_type": "code",
   "execution_count": null,
   "id": "13ebf3ca",
   "metadata": {},
   "outputs": [],
   "source": [
    "import seaborn as sns\n",
    "import matplotlib.pyplot as plt\n",
    "\n",
    "for label in [\"Version\", \"Non-Version\"]:\n",
    "    sns.violinplot(data=plot_data.loc[plot_data.label == label], \n",
    "                x=\"worker_nunique\",\n",
    "                y=\"Cosine Similarity\",\n",
    "                hue=\"Model\")\n",
    "    plt.title(label)\n",
    "    plt.xlabel(\"Distinct Worker Judgements\")\n",
    "    plt.show()\n",
    "    "
   ]
  },
  {
   "cell_type": "markdown",
   "id": "acafbcd5",
   "metadata": {},
   "source": [
    "# SHS-Version to AmbiguityClasses"
   ]
  },
  {
   "cell_type": "code",
   "execution_count": null,
   "id": "ddac223c",
   "metadata": {},
   "outputs": [],
   "source": [
    "plot_data = data.loc[\n",
    "    (data.set_id_a == data.set_id_b) & ~(data.yt_id_a == data.yt_id_b) & (data.label_a == \"SHS-Version\")]\n",
    "plot_data = pd.merge(plot_data, \n",
    "         data_human.rename({\"reference_yt_id\": \"yt_id_a\", \"yt_id\": \"yt_id_b\"}, axis=1)[\n",
    "    [\"yt_id_a\", \"yt_id_b\", \"worker_nunique\" ]],\n",
    "        on=[\"yt_id_a\", \"yt_id_b\"],\n",
    "        how=\"left\"\n",
    "    )\n",
    "\n",
    "# aggregate\n",
    "agg_functions = {\n",
    "    'cos_ch': ['mean', 'std'],\n",
    "    'cos_cq': ['mean', 'std', 'count'],\n",
    "    'cos_rm': ['mean', 'std']\n",
    "}\n",
    "plot_data = plot_data.groupby(by=[\"label_b\", \"category_expert_b\"]).agg(agg_functions)\n",
    "\n"
   ]
  },
  {
   "cell_type": "code",
   "execution_count": null,
   "id": "28cf3524",
   "metadata": {},
   "outputs": [],
   "source": [
    "for sims_col in [\"cos_ch\", \"cos_cq\", \"cos_rm\"]:\n",
    "    print(f\"\\n{sims_col}\")\n",
    "    \n",
    "    shs_vars = shs_vers_vals[sims_col]\n",
    "    for ambiguity_class in plot_data.loc[\"YT-Version\"].index:\n",
    "        ambiguity_vars = data_ttest.loc[(data_ttest.label_b == \"YT-Version\") & \n",
    "                              (data_ttest.set_id_a == data_ttest.set_id_b) & \n",
    "                              (data_ttest.category_expert_b == ambiguity_class), sims_col]\n",
    "\n",
    "        ttest(shs_vars, ambiguity_vars, \"SHS-Version\", ambiguity_class)\n",
    "\n",
    "    shs_non_vars = shs_nonvers_vals[sims_col]\n",
    "    for ambiguity_class in plot_data.loc[\"Non-Version\"].index:\n",
    "\n",
    "        ambiguity_vars = data_ttest.loc[(data_ttest.label_b == \"Non-Version\") & \n",
    "                                      (data_ttest.set_id_a == data_ttest.set_id_b) &\n",
    "                                      (data_ttest.category_expert_b == ambiguity_class), sims_col]\n",
    "    \n",
    "        ttest(ambiguity_vars, shs_non_vars, \"YT-NonVersion\", ambiguity_class)\n",
    "\n"
   ]
  },
  {
   "cell_type": "code",
   "execution_count": null,
   "id": "28ae1e86",
   "metadata": {},
   "outputs": [],
   "source": [
    "shs_vers_vals['cos_ch']\n"
   ]
  },
  {
   "cell_type": "code",
   "execution_count": null,
   "id": "1261213e",
   "metadata": {},
   "outputs": [],
   "source": [
    "plot_data.loc[\"YT-Version\", [(\"cos_ch\", \"mean\"), (\"cos_ch\", \"std\"), (\"cos_cq\", \"mean\"), (\"cos_cq\", \"std\"), \n",
    "                             (\"cos_rm\", \"mean\"), (\"cos_rm\", \"std\"), (\"cos_cq\", \"count\")]].round(2).to_latex(\n",
    "                                 float_format=\"{:.2f}\".format, index=True, escape=False)\n",
    "\n"
   ]
  },
  {
   "cell_type": "code",
   "execution_count": null,
   "id": "07778913",
   "metadata": {},
   "outputs": [],
   "source": [
    "plot_data.loc[\"Non-Version\", [(\"cos_ch\", \"mean\"), (\"cos_ch\", \"std\"), (\"cos_cq\", \"mean\"), (\"cos_cq\", \"std\"), \n",
    "                             (\"cos_rm\", \"mean\"), (\"cos_rm\", \"std\"), (\"cos_cq\", \"count\")]].round(2).to_latex(\n",
    "                                 float_format=\"{:.2f}\".format, index=True, escape=False)\n",
    "\n"
   ]
  },
  {
   "cell_type": "code",
   "execution_count": null,
   "id": "c11b00d3",
   "metadata": {},
   "outputs": [],
   "source": [
    "plot_data.loc[\"No Music\", [(\"cos_ch\", \"mean\"), (\"cos_ch\", \"std\"), (\"cos_cq\", \"mean\"), (\"cos_cq\", \"std\"), \n",
    "                             (\"cos_rm\", \"mean\"), (\"cos_rm\", \"std\"), (\"cos_cq\", \"count\")]].round(2)"
   ]
  },
  {
   "cell_type": "code",
   "execution_count": null,
   "id": "fc0b7380",
   "metadata": {},
   "outputs": [],
   "source": [
    "data.query(\"label_b == 'No Music' & category_expert_b != 'Placeholder: No Music'\")\n"
   ]
  },
  {
   "cell_type": "markdown",
   "id": "bfb0b712",
   "metadata": {},
   "source": [
    "# Heatmaps"
   ]
  },
  {
   "cell_type": "code",
   "execution_count": null,
   "id": "ef4b570a",
   "metadata": {},
   "outputs": [],
   "source": [
    "import seaborn as sns\n",
    "import matplotlib.pyplot as plt\n",
    "import numpy as np\n",
    "\n",
    "data = utils.get_all_pair_dfs(dataset)\n",
    "\n",
    "plot_data = data.loc[(data.set_id_a == data.set_id_b) & \n",
    "            (data.yt_id_a != data.yt_id_b) & \n",
    "         (data.label_a.isin([\"SHS-Version\", \"YT-Version\"]) & \n",
    "          (data.label_b.isin([\"SHS-Version\", \"YT-Version\"]))) & \n",
    "          (data.category_expert_a != \"Placeholder: Non-Ambiguous\") & \n",
    "           (data.category_expert_b != \"Placeholder: Non-Ambiguous\")].pivot_table(\n",
    "              values='cos_ch', index='category_expert_a', columns='category_expert_b', aggfunc='mean'\n",
    "          ).round(2).replace([np.inf, -np.inf], np.nan)\n",
    "\n",
    "sns.heatmap(plot_data, annot=True)\n",
    "plt.xlabel('')\n",
    "plt.ylabel('')\n",
    "plt.tight_layout()\n",
    "plt.savefig(\"figs/heatmap_ytversions.pdf\")\n",
    "plt.show()\n"
   ]
  }
 ],
 "metadata": {
  "kernelspec": {
   "display_name": "shs-yt",
   "language": "python",
   "name": "python3"
  },
  "language_info": {
   "codemirror_mode": {
    "name": "ipython",
    "version": 3
   },
   "file_extension": ".py",
   "mimetype": "text/x-python",
   "name": "python",
   "nbconvert_exporter": "python",
   "pygments_lexer": "ipython3",
   "version": "3.11.8"
  }
 },
 "nbformat": 4,
 "nbformat_minor": 5
}
